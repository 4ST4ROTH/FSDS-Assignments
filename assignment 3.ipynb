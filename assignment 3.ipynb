{
 "cells": [
  {
   "cell_type": "code",
   "execution_count": null,
   "id": "ee138917",
   "metadata": {},
   "outputs": [],
   "source": [
    "#1. Why are functions advantageous to have in your programs?\n",
    "\n",
    "ANS:\n",
    "    Functions enables us to perform the same logic multiple times without writing the same codes again and again. It increases the modularity and reuseability of a programme."
   ]
  },
  {
   "cell_type": "code",
   "execution_count": null,
   "id": "2154ca60",
   "metadata": {},
   "outputs": [],
   "source": [
    "#2. When does the code in a function run: when it's specified or when it's called?\n",
    "\n",
    "ANS:\n",
    "    A function runs when its called."
   ]
  },
  {
   "cell_type": "code",
   "execution_count": null,
   "id": "81686c47",
   "metadata": {},
   "outputs": [],
   "source": [
    "#3. What statement creates a function?\n",
    "\n",
    "ANS:\n",
    "    def test_fun(a,b):\n",
    "        return a+b"
   ]
  },
  {
   "cell_type": "code",
   "execution_count": null,
   "id": "db483a88",
   "metadata": {},
   "outputs": [],
   "source": [
    "#4. What is the difference between a function and a function call?\n",
    "\n",
    "ANS:\n",
    "    A function is a block of code which enhances the reuseability and modularity of a programme. A function call means invoking and calling that function.\n",
    "    FOR EX:\n",
    "        def func_add(a,b):    #function\n",
    "            return a+b\n",
    "        \n",
    "        func_add(1,2)         #function call"
   ]
  },
  {
   "cell_type": "code",
   "execution_count": null,
   "id": "d60ce3aa",
   "metadata": {},
   "outputs": [],
   "source": [
    "#5. How many global scopes are there in a Python program? How many local scopes?\n",
    "\n",
    "ANS:\n",
    "    When a variable is defined inside  function is known as local scope. We can access the variale inside that function only.\n",
    "    In global scope the variable is created outside the function and can be accessed both outside and inside a function."
   ]
  },
  {
   "cell_type": "code",
   "execution_count": null,
   "id": "960c39c5",
   "metadata": {},
   "outputs": [],
   "source": [
    "#6. What happens to variables in a local scope when the function call returns?\n",
    "\n",
    "ANS:\n",
    "    A local variable and its values are deleted from the memory and cannot be accessed outsie the function."
   ]
  },
  {
   "cell_type": "code",
   "execution_count": null,
   "id": "e90dcd8f",
   "metadata": {},
   "outputs": [],
   "source": [
    "#7. What is the concept of a return value? Is it possible to have a return value in an expression?\n",
    "\n",
    "ANS:\n",
    "    A return values is the output that a function call returns. Return value can be used in an expression."
   ]
  },
  {
   "cell_type": "code",
   "execution_count": null,
   "id": "2351ddbd",
   "metadata": {},
   "outputs": [],
   "source": [
    "#8. If a function does not have a return statement, what is the return value of a call to that function?\n",
    "\n",
    "ANS:\n",
    "    If a function call does not have a return statement the code written inside the function still works but do not retun the value as an output. and the type of such value is noneype. "
   ]
  },
  {
   "cell_type": "code",
   "execution_count": null,
   "id": "23a1fbb5",
   "metadata": {},
   "outputs": [],
   "source": [
    "#9. How do you make a function variable refer to the global variable?\n",
    "\n",
    "ANS:\n",
    "    By representig the global variable with the keyword (\"global\"). for ex: global a"
   ]
  },
  {
   "cell_type": "code",
   "execution_count": null,
   "id": "85e19eed",
   "metadata": {},
   "outputs": [],
   "source": [
    "#10. What is the data type of None?\n",
    "\n",
    "ANS:\n",
    "    nonetype"
   ]
  },
  {
   "cell_type": "code",
   "execution_count": null,
   "id": "1e454d6a",
   "metadata": {},
   "outputs": [],
   "source": [
    "#11. What does the sentence import areallyourpetsnamederic do?\n",
    "\n",
    "ANS:\n",
    "    It will give ModuleNotFoundError unless you have a module with this name in the current directory."
   ]
  },
  {
   "cell_type": "code",
   "execution_count": null,
   "id": "e56b888e",
   "metadata": {},
   "outputs": [],
   "source": [
    "#12. If you had a bacon() feature in a spam module, what would you call it after importing spam?\n",
    "\n",
    "ANS:\n",
    "    import spam\n",
    "    spam.bacon()"
   ]
  },
  {
   "cell_type": "code",
   "execution_count": null,
   "id": "6d37b145",
   "metadata": {},
   "outputs": [],
   "source": [
    "#13. What can you do to save a programme from crashing if it encounters an error?\n",
    "\n",
    "ANS:\n",
    "    We can perform exception hadling by writing the code in try block and catch the exception in except block."
   ]
  },
  {
   "cell_type": "code",
   "execution_count": null,
   "id": "4d8f0e67",
   "metadata": {},
   "outputs": [],
   "source": [
    "#14. What is the purpose of the try clause? What is the purpose of the except clause?\n",
    "\n",
    "ANS:\n",
    "    try block lets the code execute even when there is an unexpected error and catch the exce[tion in except block.]"
   ]
  }
 ],
 "metadata": {
  "kernelspec": {
   "display_name": "Python 3 (ipykernel)",
   "language": "python",
   "name": "python3"
  },
  "language_info": {
   "codemirror_mode": {
    "name": "ipython",
    "version": 3
   },
   "file_extension": ".py",
   "mimetype": "text/x-python",
   "name": "python",
   "nbconvert_exporter": "python",
   "pygments_lexer": "ipython3",
   "version": "3.9.7"
  }
 },
 "nbformat": 4,
 "nbformat_minor": 5
}
