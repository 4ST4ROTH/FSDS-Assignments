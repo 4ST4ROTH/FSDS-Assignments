{
 "cells": [
  {
   "cell_type": "code",
   "execution_count": null,
   "id": "fa0027a9",
   "metadata": {},
   "outputs": [],
   "source": [
    "1. In the below elements which of them are values or an expression? eg:- values can be integer or string and expressions will be mathematical operators.\n",
    "* \n",
    "'hello' \n",
    "-87.8\n",
    "- \n",
    "/ \n",
    "\n",
    "\n",
    "6 \n",
    "\n",
    "ANS:\n",
    "Values are 'hello' , -87.8 , 6\n",
    "Expression are * , - , / , +"
   ]
  },
  {
   "cell_type": "code",
   "execution_count": null,
   "id": "20c98bce",
   "metadata": {},
   "outputs": [],
   "source": [
    "2. What is the difference between string and variable?\n",
    "\n",
    "ANS:\n",
    "A string is a data type consists of texts, letters or numbers. It must be represented inside \"\". For exampe: \"i ate 4 apples\"\n",
    "A variabe can be a letter or text that holds/stores the data in memory. For example: x = [1,2,3,5], here x is a variale that is holding the list as data."
   ]
  },
  {
   "cell_type": "code",
   "execution_count": null,
   "id": "7c0c363e",
   "metadata": {},
   "outputs": [],
   "source": [
    "3. Describe three different data types.\n",
    "\n",
    "ANS:\n",
    "Below are the different types of data:\n",
    "\n",
    "#INTERGER: this data type includes 0, +ve and -ve whole numbers without a fractional part. EX: 23,-45,56,100 are all integers.\n",
    "\n",
    "#FLOAT: a float contains a fraction or number in decimal formate. EX: 3.56,68.9,69.5 etc\n",
    "\n",
    "#TUPLES: a tuple is a list of different data types (integer,float,string etc) that is ordered and unchangable. It is written in round bracket(). EX: a = (34,56,\"string\",[2,3,4])\n",
    "#LIST #DICTIONARY #SET #STRING\n"
   ]
  },
  {
   "cell_type": "code",
   "execution_count": null,
   "id": "20a8e43c",
   "metadata": {},
   "outputs": [],
   "source": [
    "3. What is an expression made up of? What do all expressions do?\n",
    "\n",
    "ANS:\n",
    "An expression is a mathematical operator that perform mathematical calculations. expressions incluse *, - , +, /."
   ]
  },
  {
   "cell_type": "code",
   "execution_count": null,
   "id": "14800316",
   "metadata": {},
   "outputs": [],
   "source": [
    "4. This assignment statements, like spam = 10. What is the difference between an expression and a statement?\n",
    "\n",
    "ANS:\n",
    "spam = 10 , in this statement spam is a variable holding data i.e 10 . An expression performs some kind of mathematical calculation. For example print(4*5) is an expression. \n"
   ]
  },
  {
   "cell_type": "code",
   "execution_count": null,
   "id": "c09bc24f",
   "metadata": {},
   "outputs": [],
   "source": [
    "6. After running the following code, what does the variable bacon contain?\n",
    "bacon = 22\n",
    "bacon + 1\n",
    "\n",
    "ANS:\n",
    "No change in the data in bacon variable after running the code."
   ]
  },
  {
   "cell_type": "code",
   "execution_count": null,
   "id": "f15dfce4",
   "metadata": {},
   "outputs": [],
   "source": [
    "7. What should the values of the following two terms be?\n",
    "'spam' + 'spamspam'\n",
    "'spam' * 3\n",
    "\n",
    "ANS:\n",
    "'spam' + 'spamspam' = 'spamspamspam'\n",
    "'spam' * 3 = 'spamspamspam'"
   ]
  },
  {
   "cell_type": "code",
   "execution_count": null,
   "id": "792190f7",
   "metadata": {},
   "outputs": [],
   "source": [
    "8. Why is eggs a valid variable name while 100 is invalid?\n",
    "\n",
    "ANS:\n",
    "A variable name can only have letters (both uppercase and lowercase letters), digits and underscore. 100 is an integer and python do not allow an integer as a variable."
   ]
  },
  {
   "cell_type": "code",
   "execution_count": null,
   "id": "95005824",
   "metadata": {},
   "outputs": [],
   "source": [
    "9. What three functions can be used to get the integer, floating-point number, or string version of a value?\n",
    "\n",
    "ANS:\n",
    "a = -100\n",
    "int(a)\n",
    "str(a"
   ]
  },
  {
   "cell_type": "code",
   "execution_count": null,
   "id": "9bdc7c53",
   "metadata": {},
   "outputs": [],
   "source": [
    "10. Why does this expression cause an error? How can you fix it?\n",
    "'I have eaten ' + 99 + ' burritos.'\n",
    "\n",
    "ANS:\n",
    "We cannot concatenate string to integer."
   ]
  }
 ],
 "metadata": {
  "kernelspec": {
   "display_name": "Python 3 (ipykernel)",
   "language": "python",
   "name": "python3"
  },
  "language_info": {
   "codemirror_mode": {
    "name": "ipython",
    "version": 3
   },
   "file_extension": ".py",
   "mimetype": "text/x-python",
   "name": "python",
   "nbconvert_exporter": "python",
   "pygments_lexer": "ipython3",
   "version": "3.9.7"
  }
 },
 "nbformat": 4,
 "nbformat_minor": 5
}
