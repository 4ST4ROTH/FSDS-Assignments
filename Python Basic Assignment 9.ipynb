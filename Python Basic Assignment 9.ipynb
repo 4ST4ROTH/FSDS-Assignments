{
 "cells": [
  {
   "cell_type": "markdown",
   "id": "a1f3ab79",
   "metadata": {},
   "source": [
    "# 1. To what does a relative path refer?\n"
   ]
  },
  {
   "cell_type": "code",
   "execution_count": null,
   "id": "770b7da5",
   "metadata": {},
   "outputs": [],
   "source": [
    "ANS :\n",
    "    A relative path is a URL that only contains a portion of the full path. Its complete location is based on its relation to the directory where it is linking."
   ]
  },
  {
   "cell_type": "markdown",
   "id": "81113c59",
   "metadata": {},
   "source": [
    "# 2. What does an absolute path start with your operating system?\n"
   ]
  },
  {
   "cell_type": "code",
   "execution_count": null,
   "id": "d8c00ffe",
   "metadata": {},
   "outputs": [],
   "source": [
    "ANS:\n",
    "    An absolute path starts with the root element. Usually the root element is drive name and then subdirectories where the file is saved."
   ]
  },
  {
   "cell_type": "markdown",
   "id": "da4edea0",
   "metadata": {},
   "source": [
    "# 3. What do the functions os.getcwd() and os.chdir() do?\n"
   ]
  },
  {
   "cell_type": "code",
   "execution_count": null,
   "id": "9d0433cb",
   "metadata": {
    "collapsed": true
   },
   "outputs": [],
   "source": [
    "os.getcwd() is used to get the current working directory.\n",
    "os.chdir() is used to change the current working directory."
   ]
  },
  {
   "cell_type": "markdown",
   "id": "47b3dc05",
   "metadata": {},
   "source": [
    "# 4. What are the . and .. folders?\n"
   ]
  },
  {
   "cell_type": "code",
   "execution_count": null,
   "id": "cfd04d35",
   "metadata": {},
   "outputs": [],
   "source": [
    "ANS :\n",
    "    The . is the current folder and .. is the parent folder."
   ]
  },
  {
   "cell_type": "markdown",
   "id": "fe709dc3",
   "metadata": {},
   "source": [
    "# 5. In C:\\bacon\\eggs\\spam.txt, which part is the dir name, and which part is the base name?\n"
   ]
  },
  {
   "cell_type": "code",
   "execution_count": null,
   "id": "790e6645",
   "metadata": {},
   "outputs": [],
   "source": [
    "ANS :\n",
    "    C:\\bacon\\eggs is the dir name, while spam.txt is the base name."
   ]
  },
  {
   "cell_type": "markdown",
   "id": "ff778331",
   "metadata": {},
   "source": [
    "# 6. What are the three “mode” arguments that can be passed to the open() function?\n"
   ]
  },
  {
   "cell_type": "code",
   "execution_count": null,
   "id": "7cf000f6",
   "metadata": {},
   "outputs": [],
   "source": [
    "ANS:\n",
    "    The three \"mode\" arguments are 'r' read, 'w' write and 'a' append."
   ]
  },
  {
   "cell_type": "markdown",
   "id": "2cb0a4e2",
   "metadata": {},
   "source": [
    "# 7. What happens if an existing file is opened in write mode?\n"
   ]
  },
  {
   "cell_type": "code",
   "execution_count": null,
   "id": "c621b785",
   "metadata": {},
   "outputs": [],
   "source": [
    "ANS :\n",
    "    When an existing file is opened in write mode it is completely overwritten."
   ]
  },
  {
   "cell_type": "markdown",
   "id": "b5d43414",
   "metadata": {},
   "source": [
    "# 8. How do you tell the difference between read() and readlines()?\n"
   ]
  },
  {
   "cell_type": "code",
   "execution_count": null,
   "id": "f328a5b4",
   "metadata": {},
   "outputs": [],
   "source": [
    "ANS:\n",
    "    read() function returns the files content in a single string value. whereas readlines() returns each line of the files content in its seperate string."
   ]
  },
  {
   "cell_type": "markdown",
   "id": "90861caf",
   "metadata": {},
   "source": [
    "# 9. What data structure does a shelf value resemble?\n"
   ]
  },
  {
   "cell_type": "code",
   "execution_count": null,
   "id": "282b891f",
   "metadata": {},
   "outputs": [],
   "source": [
    "ANS :\n",
    "    A shelf value resembles a dictionary value; it has keys and values, along with keys() and values() methods that work similarly to the dictionary methods of the same names."
   ]
  },
  {
   "cell_type": "code",
   "execution_count": null,
   "id": "81c75774",
   "metadata": {},
   "outputs": [],
   "source": []
  }
 ],
 "metadata": {
  "kernelspec": {
   "display_name": "Python 3 (ipykernel)",
   "language": "python",
   "name": "python3"
  },
  "language_info": {
   "codemirror_mode": {
    "name": "ipython",
    "version": 3
   },
   "file_extension": ".py",
   "mimetype": "text/x-python",
   "name": "python",
   "nbconvert_exporter": "python",
   "pygments_lexer": "ipython3",
   "version": "3.9.7"
  }
 },
 "nbformat": 4,
 "nbformat_minor": 5
}
