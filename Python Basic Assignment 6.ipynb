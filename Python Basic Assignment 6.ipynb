{
 "cells": [
  {
   "cell_type": "markdown",
   "id": "e71634db",
   "metadata": {},
   "source": [
    "# 1. What are escape characters, and how do you use them?\n"
   ]
  },
  {
   "cell_type": "code",
   "execution_count": null,
   "id": "94205c62",
   "metadata": {},
   "outputs": [],
   "source": [
    "An escape character lets us use characters that are otherwise impossible to put into a string. An escape character consists of backslash(\\) and then followed by the character you want to insert. For example: \"\\n\"(newline)"
   ]
  },
  {
   "cell_type": "markdown",
   "id": "509dcb6a",
   "metadata": {},
   "source": [
    "# 2. What do the escape characters n and t stand for?\n"
   ]
  },
  {
   "cell_type": "code",
   "execution_count": null,
   "id": "aef01d5a",
   "metadata": {},
   "outputs": [],
   "source": [
    "\"\\n\" for new line\n",
    "\"\\t\" for tab"
   ]
  },
  {
   "cell_type": "markdown",
   "id": "039f9ee9",
   "metadata": {},
   "source": [
    "# 3. What is the way to include backslash characters in a string?\n"
   ]
  },
  {
   "cell_type": "code",
   "execution_count": null,
   "id": "159aa7c1",
   "metadata": {},
   "outputs": [],
   "source": [
    "By putting backslash(\\)before the escape character"
   ]
  },
  {
   "cell_type": "markdown",
   "id": "85d5b975",
   "metadata": {},
   "source": [
    "# 4. The string \"Howl's Moving Castle\" is a correct value. Why isn't the single quote character in the word Howl's not escaped a problem?\n"
   ]
  },
  {
   "cell_type": "code",
   "execution_count": null,
   "id": "9c51d1fb",
   "metadata": {},
   "outputs": [],
   "source": [
    "Because the whole string is inside the double quote and everything inside the double quote is considered the part of string."
   ]
  },
  {
   "cell_type": "markdown",
   "id": "de354707",
   "metadata": {},
   "source": [
    "# 5. How do you write a string of newlines if you don't want to use the n character?\n"
   ]
  },
  {
   "cell_type": "code",
   "execution_count": 12,
   "id": "d05d284e",
   "metadata": {},
   "outputs": [
    {
     "name": "stdout",
     "output_type": "stream",
     "text": [
      "Hi this is line 1\n",
      "line 2\n",
      "By using print function for every new line\n"
     ]
    }
   ],
   "source": [
    "print(\"Hi this is line 1\")\n",
    "print(\"line 2\")\n",
    "print(\"By using print function for every new line\")"
   ]
  },
  {
   "cell_type": "markdown",
   "id": "7ef89ed0",
   "metadata": {},
   "source": [
    "# 6. What are the values of the given expressions?\n",
    "'Hello, world!'[1]\n",
    "'Hello, world!'[0:5]\n",
    "'Hello, world!'[:5]\n",
    "'Hello, world!'[3:]\n"
   ]
  },
  {
   "cell_type": "code",
   "execution_count": 13,
   "id": "d6b4aa74",
   "metadata": {},
   "outputs": [
    {
     "data": {
      "text/plain": [
       "'e'"
      ]
     },
     "execution_count": 13,
     "metadata": {},
     "output_type": "execute_result"
    }
   ],
   "source": [
    "\"Hello, World!\"[1]"
   ]
  },
  {
   "cell_type": "code",
   "execution_count": 14,
   "id": "4be82d05",
   "metadata": {},
   "outputs": [
    {
     "data": {
      "text/plain": [
       "'Hello'"
      ]
     },
     "execution_count": 14,
     "metadata": {},
     "output_type": "execute_result"
    }
   ],
   "source": [
    "\"Hello, World!\"[0:5]"
   ]
  },
  {
   "cell_type": "code",
   "execution_count": 15,
   "id": "db315bca",
   "metadata": {},
   "outputs": [
    {
     "data": {
      "text/plain": [
       "'Hello'"
      ]
     },
     "execution_count": 15,
     "metadata": {},
     "output_type": "execute_result"
    }
   ],
   "source": [
    "\"Hello, World!\"[:5]"
   ]
  },
  {
   "cell_type": "code",
   "execution_count": 16,
   "id": "02bed5bb",
   "metadata": {},
   "outputs": [
    {
     "data": {
      "text/plain": [
       "'lo, World!'"
      ]
     },
     "execution_count": 16,
     "metadata": {},
     "output_type": "execute_result"
    }
   ],
   "source": [
    "\"Hello, World!\"[3:]"
   ]
  },
  {
   "cell_type": "markdown",
   "id": "684f69f4",
   "metadata": {},
   "source": [
    "# 7. What are the values of the following expressions?\n",
    "'Hello'.upper()\n",
    "'Hello'.upper().isupper()\n",
    "'Hello'.upper().lower()\n"
   ]
  },
  {
   "cell_type": "code",
   "execution_count": 17,
   "id": "78fbd0fc",
   "metadata": {},
   "outputs": [
    {
     "data": {
      "text/plain": [
       "'HELLO'"
      ]
     },
     "execution_count": 17,
     "metadata": {},
     "output_type": "execute_result"
    }
   ],
   "source": [
    "'Hello'.upper() "
   ]
  },
  {
   "cell_type": "code",
   "execution_count": 18,
   "id": "0499ad18",
   "metadata": {},
   "outputs": [
    {
     "data": {
      "text/plain": [
       "True"
      ]
     },
     "execution_count": 18,
     "metadata": {},
     "output_type": "execute_result"
    }
   ],
   "source": [
    "'Hello'.upper().isupper()\n"
   ]
  },
  {
   "cell_type": "code",
   "execution_count": 19,
   "id": "b0da5550",
   "metadata": {},
   "outputs": [
    {
     "data": {
      "text/plain": [
       "'hello'"
      ]
     },
     "execution_count": 19,
     "metadata": {},
     "output_type": "execute_result"
    }
   ],
   "source": [
    "'Hello'.upper().lower()\n"
   ]
  },
  {
   "cell_type": "markdown",
   "id": "557c3bf9",
   "metadata": {},
   "source": [
    "# 8. What are the values of the following expressions?\n",
    "'Remember, remember, the fifth of July.'.split()\n",
    "'-'.join('There can only one.'.split())\n"
   ]
  },
  {
   "cell_type": "code",
   "execution_count": 20,
   "id": "328d3ae9",
   "metadata": {},
   "outputs": [
    {
     "data": {
      "text/plain": [
       "['Remember,', 'remember,', 'the', 'fifth', 'of', 'July.']"
      ]
     },
     "execution_count": 20,
     "metadata": {},
     "output_type": "execute_result"
    }
   ],
   "source": [
    "'Remember, remember, the fifth of July.'.split()"
   ]
  },
  {
   "cell_type": "code",
   "execution_count": 21,
   "id": "2f58e121",
   "metadata": {},
   "outputs": [
    {
     "data": {
      "text/plain": [
       "'There-can-only-one.'"
      ]
     },
     "execution_count": 21,
     "metadata": {},
     "output_type": "execute_result"
    }
   ],
   "source": [
    "'-'.join('There can only one.'.split())"
   ]
  },
  {
   "cell_type": "markdown",
   "id": "ed0d2de2",
   "metadata": {},
   "source": [
    "# 9. What are the methods for right-justifying, left-justifying, and centering a string?\n"
   ]
  },
  {
   "cell_type": "code",
   "execution_count": 28,
   "id": "49dd7a6d",
   "metadata": {},
   "outputs": [
    {
     "name": "stdout",
     "output_type": "stream",
     "text": [
      "                                          i love football                                            #\n"
     ]
    }
   ],
   "source": [
    "print(\"i love football\".center(100),'#')"
   ]
  },
  {
   "cell_type": "code",
   "execution_count": 29,
   "id": "c5f14dd2",
   "metadata": {},
   "outputs": [
    {
     "name": "stdout",
     "output_type": "stream",
     "text": [
      "                                                                                     i love football #\n"
     ]
    }
   ],
   "source": [
    "print(\"i love football\".rjust(100),'#')"
   ]
  },
  {
   "cell_type": "code",
   "execution_count": 30,
   "id": "23a7160f",
   "metadata": {},
   "outputs": [
    {
     "name": "stdout",
     "output_type": "stream",
     "text": [
      "i love football                                                                                      #\n"
     ]
    }
   ],
   "source": [
    "print(\"i love football\".ljust(100),'#')"
   ]
  },
  {
   "cell_type": "markdown",
   "id": "545449ed",
   "metadata": {},
   "source": [
    "# 10. What is the best way to remove whitespace characters from the start or end?\n"
   ]
  },
  {
   "cell_type": "code",
   "execution_count": 32,
   "id": "1f30e2b2",
   "metadata": {},
   "outputs": [
    {
     "name": "stdout",
     "output_type": "stream",
     "text": [
      "\n",
      "\t     this is a string      \n",
      "\n",
      "30\n",
      "this is a string\n",
      "16\n"
     ]
    }
   ],
   "source": [
    "string = \"\\n\\t     this is a string      \\n\"\n",
    "clean_string = string.strip()\n",
    "\n",
    "#string with white spaces\n",
    "print(string)\n",
    "print(len(string))\n",
    "\n",
    "# string after split fun\n",
    "print(clean_string)\n",
    "print(len(clean_string))"
   ]
  },
  {
   "cell_type": "code",
   "execution_count": null,
   "id": "43f35900",
   "metadata": {},
   "outputs": [],
   "source": []
  }
 ],
 "metadata": {
  "kernelspec": {
   "display_name": "Python 3 (ipykernel)",
   "language": "python",
   "name": "python3"
  },
  "language_info": {
   "codemirror_mode": {
    "name": "ipython",
    "version": 3
   },
   "file_extension": ".py",
   "mimetype": "text/x-python",
   "name": "python",
   "nbconvert_exporter": "python",
   "pygments_lexer": "ipython3",
   "version": "3.9.7"
  }
 },
 "nbformat": 4,
 "nbformat_minor": 5
}
