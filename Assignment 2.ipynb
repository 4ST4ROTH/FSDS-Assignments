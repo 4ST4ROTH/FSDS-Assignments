{
 "cells": [
  {
   "cell_type": "code",
   "execution_count": null,
   "id": "2319a24c",
   "metadata": {},
   "outputs": [],
   "source": [
    "#1.What are the two values of the Boolean data type? How do you write them?\n",
    "\n",
    "ANS:\n",
    "    True #written with capital T \n",
    "    False #written with capiyal F"
   ]
  },
  {
   "cell_type": "code",
   "execution_count": null,
   "id": "fcc10a99",
   "metadata": {},
   "outputs": [],
   "source": [
    "#. What are the three different types of Boolean operators?\n",
    "\n",
    "ANS:\n",
    "    not\n",
    "    and\n",
    "    or"
   ]
  },
  {
   "cell_type": "code",
   "execution_count": null,
   "id": "44eea189",
   "metadata": {},
   "outputs": [],
   "source": [
    "#3. Make a list of each Boolean operator's truth tables (i.e. every possible combination of Boolean values for the operator and what it evaluate ).\n",
    "\n",
    "ANS:\n",
    "    not True = False\n",
    "    not False = True\n",
    "    True and True = True\n",
    "    False and False = False\n",
    "    True and False = False \n",
    "    False and True = False\n",
    "    True or True = True\n",
    "    False or False = False\n",
    "    True or False = True\n",
    "    False or True = True\n",
    "    "
   ]
  },
  {
   "cell_type": "code",
   "execution_count": null,
   "id": "73c195da",
   "metadata": {},
   "outputs": [],
   "source": [
    "#4. What are the values of the following expressions?\n",
    "\n",
    "ANS:\n",
    "    (5 > 4) and (3 == 5)                          False\n",
    "    not (5 > 4)                                   False  \n",
    "    (5 > 4) or (3 == 5)                           True\n",
    "    not ((5 > 4) or (3 == 5))                     False\n",
    "    (True and True) and (True == False)           False\n",
    "    (not False) or (not True)                     True\n"
   ]
  },
  {
   "cell_type": "code",
   "execution_count": null,
   "id": "7cd9ead0",
   "metadata": {},
   "outputs": [],
   "source": [
    "#5. What are the six comparison operators?\n",
    "\n",
    "ANS: \n",
    "    ==  (equal to)\n",
    "    !=  (not equal to)\n",
    "    >=  (greater than or equal to)\n",
    "    <=  (less than or equal to)\n",
    "    >   (greater than)\n",
    "    <   (less than)"
   ]
  },
  {
   "cell_type": "code",
   "execution_count": null,
   "id": "5ffd71db",
   "metadata": {},
   "outputs": [],
   "source": [
    "#6. How do you tell the difference between the equal to and assignment operators?Describe a condition and when you would use one.\n",
    "\n",
    "ANS:\n",
    "    equal to \"==\" is a comparison operator and can be used when you have to check the value of a variable. For instance if a == 1: print(\"true\")\n",
    "    \"=\" is an assignment operator and can be used when assigning a variable to its value. Ex: a = 1\n",
    "        "
   ]
  },
  {
   "cell_type": "code",
   "execution_count": null,
   "id": "fcd38afb",
   "metadata": {},
   "outputs": [],
   "source": [
    "#b#7. Identify the three blocks in this code:\n",
    "spam = 0\n",
    "if spam == 10:\n",
    "print('eggs')\n",
    "if spam > 5:\n",
    "print('bacon')\n",
    "else:\n",
    "print('ham')\n",
    "print('spam')\n",
    "print('spam')\n",
    "\n",
    "ANS:\n",
    "    \n",
    "    #Block 1\n",
    "    print('eggs')\n",
    "    \n",
    "    #Block 2\n",
    "    print('bacon')\n",
    "    \n",
    "    #Block 3\n",
    "    print('ham')\n",
    "    print('spam')\n",
    "    print('spam')"
   ]
  },
  {
   "cell_type": "code",
   "execution_count": 16,
   "id": "41db1517",
   "metadata": {},
   "outputs": [
    {
     "name": "stdout",
     "output_type": "stream",
     "text": [
      "1\n",
      "Hello\n"
     ]
    }
   ],
   "source": [
    "#8. Write code that prints Hello if 1 is stored in spam, prints Howdy if 2 is stored in spam, and prints Greetings! if anything else is stored in spam.\n",
    "\n",
    "#ANS:\n",
    "    \n",
    "spam = int(input())\n",
    "if spam == 1:\n",
    "    print(\"Hello\")\n",
    "    \n",
    "elif spam == 2:\n",
    "    print(\"Howdy\")\n",
    "    \n",
    "else:\n",
    "    print(\"Greetings!\")"
   ]
  },
  {
   "cell_type": "code",
   "execution_count": null,
   "id": "c72cccad",
   "metadata": {},
   "outputs": [],
   "source": [
    "#9.If your programme is stuck in an endless loop, what keys you’ll press?\n",
    "\n",
    "ANS:\n",
    "    we have to interrrupt the kernel by pressing square shaped button on top header in jupyter notebook."
   ]
  },
  {
   "cell_type": "code",
   "execution_count": null,
   "id": "aa655c00",
   "metadata": {},
   "outputs": [],
   "source": [
    "#10. How can you tell the difference between break and continue?\n",
    "\n",
    "ANS:\n",
    "    The break stops the continuation of the loop and exits the loop. Whereas the continue does not stop the continuation of the loop but will stop the current iteration of the loop and will jump to next iteration of the loop."
   ]
  },
  {
   "cell_type": "code",
   "execution_count": null,
   "id": "c3cd56e3",
   "metadata": {},
   "outputs": [],
   "source": [
    "#11. In a for loop, what is the difference between range(10), range(0, 10), and range(0, 10, 1)?\n",
    "\n",
    "ANS:\n",
    "    There is no difference in the outcome of all three range statement. The only difference is in the imput provided. In range(10) weve given the upper value but no lower value is given for the range so it will consider 0 as lower value by default and jump value to 1 by default. The output will be 0,1,2,3,4,5,6,7,8,9 ."
   ]
  },
  {
   "cell_type": "code",
   "execution_count": 21,
   "id": "d5a37e34",
   "metadata": {},
   "outputs": [
    {
     "name": "stdout",
     "output_type": "stream",
     "text": [
      "1\n",
      "2\n",
      "3\n",
      "4\n",
      "5\n",
      "6\n",
      "7\n",
      "8\n",
      "9\n",
      "10\n"
     ]
    }
   ],
   "source": [
    "#12. Write a short program that prints the numbers 1 to 10 using a for loop. Then write an equivalent program that prints the numbers 1 to 10 using a while loop.\n",
    "\n",
    "#ANS:\n",
    "\n",
    "for i in range(1,11):\n",
    "    print(i)"
   ]
  },
  {
   "cell_type": "code",
   "execution_count": 27,
   "id": "00ca55e0",
   "metadata": {},
   "outputs": [
    {
     "name": "stdout",
     "output_type": "stream",
     "text": [
      "1\n",
      "2\n",
      "3\n",
      "4\n",
      "5\n",
      "6\n",
      "7\n",
      "8\n",
      "9\n",
      "10\n"
     ]
    }
   ],
   "source": [
    "a = 1\n",
    "while a <= 10:\n",
    "    print(a)\n",
    "    a = a+1\n",
    "    \n",
    "    "
   ]
  },
  {
   "cell_type": "code",
   "execution_count": null,
   "id": "843be4d7",
   "metadata": {},
   "outputs": [],
   "source": [
    "#13. If you had a function named bacon() inside a module named spam, how would you call it after importing spam?\n",
    "\n",
    "ANS:\n",
    "    import spam\n",
    "    spam.bacon()"
   ]
  },
  {
   "cell_type": "code",
   "execution_count": null,
   "id": "965c3310",
   "metadata": {},
   "outputs": [],
   "source": []
  }
 ],
 "metadata": {
  "kernelspec": {
   "display_name": "Python 3 (ipykernel)",
   "language": "python",
   "name": "python3"
  },
  "language_info": {
   "codemirror_mode": {
    "name": "ipython",
    "version": 3
   },
   "file_extension": ".py",
   "mimetype": "text/x-python",
   "name": "python",
   "nbconvert_exporter": "python",
   "pygments_lexer": "ipython3",
   "version": "3.9.7"
  }
 },
 "nbformat": 4,
 "nbformat_minor": 5
}
